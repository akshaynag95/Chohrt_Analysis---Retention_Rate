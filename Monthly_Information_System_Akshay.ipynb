{
  "nbformat": 4,
  "nbformat_minor": 0,
  "metadata": {
    "colab": {
      "name": "Monthly Information System-Akshay.ipynb",
      "provenance": [],
      "collapsed_sections": []
    },
    "kernelspec": {
      "name": "python3",
      "display_name": "Python 3"
    },
    "language_info": {
      "name": "python"
    }
  },
  "cells": [
    {
      "cell_type": "code",
      "metadata": {
        "id": "8BojzoK2WmCv"
      },
      "source": [
        "# basic imports\n",
        "import numpy as np\n",
        "import pandas as pd\n",
        "import datetime as dt\n",
        "import seaborn as sns\n",
        "import matplotlib.pyplot as plt\n",
        "\n",
        "%matplotlib inline"
      ],
      "execution_count": 2,
      "outputs": []
    },
    {
      "cell_type": "code",
      "metadata": {
        "colab": {
          "base_uri": "https://localhost:8080/"
        },
        "id": "bkUZywBbWzlo",
        "outputId": "c694d96a-a33b-4902-d989-bea1e91f569e"
      },
      "source": [
        "from google.colab import drive\n",
        "drive.mount('/content/drive')"
      ],
      "execution_count": 3,
      "outputs": [
        {
          "output_type": "stream",
          "name": "stdout",
          "text": [
            "Drive already mounted at /content/drive; to attempt to forcibly remount, call drive.mount(\"/content/drive\", force_remount=True).\n"
          ]
        }
      ]
    },
    {
      "cell_type": "code",
      "metadata": {
        "colab": {
          "base_uri": "https://localhost:8080/",
          "height": 204
        },
        "id": "fP8gfEw_W-xV",
        "outputId": "14296358-2e71-4381-bbb4-0e8d21b1fe67"
      },
      "source": [
        "path = \"/content/drive/MyDrive/xeno_data_set.csv\"\n",
        "data_frame = pd.read_csv(path, parse_dates=['created_on'])\n",
        "data_frame.head()"
      ],
      "execution_count": 4,
      "outputs": [
        {
          "output_type": "execute_result",
          "data": {
            "text/html": [
              "<div>\n",
              "<style scoped>\n",
              "    .dataframe tbody tr th:only-of-type {\n",
              "        vertical-align: middle;\n",
              "    }\n",
              "\n",
              "    .dataframe tbody tr th {\n",
              "        vertical-align: top;\n",
              "    }\n",
              "\n",
              "    .dataframe thead th {\n",
              "        text-align: right;\n",
              "    }\n",
              "</style>\n",
              "<table border=\"1\" class=\"dataframe\">\n",
              "  <thead>\n",
              "    <tr style=\"text-align: right;\">\n",
              "      <th></th>\n",
              "      <th>id</th>\n",
              "      <th>customer_id</th>\n",
              "      <th>location_id</th>\n",
              "      <th>channel</th>\n",
              "      <th>amount</th>\n",
              "      <th>bill_no</th>\n",
              "      <th>created_on</th>\n",
              "    </tr>\n",
              "  </thead>\n",
              "  <tbody>\n",
              "    <tr>\n",
              "      <th>0</th>\n",
              "      <td>42877344</td>\n",
              "      <td>60</td>\n",
              "      <td>192</td>\n",
              "      <td>uber</td>\n",
              "      <td>1039</td>\n",
              "      <td>GGN001-24323</td>\n",
              "      <td>2018-06-24 00:00:00</td>\n",
              "    </tr>\n",
              "    <tr>\n",
              "      <th>1</th>\n",
              "      <td>35625005</td>\n",
              "      <td>134</td>\n",
              "      <td>535</td>\n",
              "      <td>takeaway</td>\n",
              "      <td>1029</td>\n",
              "      <td>DEL007-1522</td>\n",
              "      <td>2018-01-14 19:21:00</td>\n",
              "    </tr>\n",
              "    <tr>\n",
              "      <th>2</th>\n",
              "      <td>44397299</td>\n",
              "      <td>166</td>\n",
              "      <td>347</td>\n",
              "      <td>uber</td>\n",
              "      <td>355</td>\n",
              "      <td>DEL005-29173</td>\n",
              "      <td>2018-09-13 13:40:00</td>\n",
              "    </tr>\n",
              "    <tr>\n",
              "      <th>3</th>\n",
              "      <td>44405460</td>\n",
              "      <td>166</td>\n",
              "      <td>347</td>\n",
              "      <td>uber</td>\n",
              "      <td>371</td>\n",
              "      <td>DEL005-29180</td>\n",
              "      <td>2018-09-13 14:33:00</td>\n",
              "    </tr>\n",
              "    <tr>\n",
              "      <th>4</th>\n",
              "      <td>44717004</td>\n",
              "      <td>166</td>\n",
              "      <td>347</td>\n",
              "      <td>uber</td>\n",
              "      <td>371</td>\n",
              "      <td>DEL005-29603</td>\n",
              "      <td>2018-09-16 12:40:00</td>\n",
              "    </tr>\n",
              "  </tbody>\n",
              "</table>\n",
              "</div>"
            ],
            "text/plain": [
              "         id  customer_id  location_id  ... amount       bill_no          created_on\n",
              "0  42877344           60          192  ...   1039  GGN001-24323 2018-06-24 00:00:00\n",
              "1  35625005          134          535  ...   1029   DEL007-1522 2018-01-14 19:21:00\n",
              "2  44397299          166          347  ...    355  DEL005-29173 2018-09-13 13:40:00\n",
              "3  44405460          166          347  ...    371  DEL005-29180 2018-09-13 14:33:00\n",
              "4  44717004          166          347  ...    371  DEL005-29603 2018-09-16 12:40:00\n",
              "\n",
              "[5 rows x 7 columns]"
            ]
          },
          "metadata": {},
          "execution_count": 4
        }
      ]
    },
    {
      "cell_type": "code",
      "metadata": {
        "colab": {
          "base_uri": "https://localhost:8080/",
          "height": 569
        },
        "id": "CgC7ww3HYiwG",
        "outputId": "59763cf5-4ed6-4eea-cc54-5e665e524a33"
      },
      "source": [
        "print(\"Dataframe Information & Descriptive Statistics \\n\")\n",
        "data_frame.info()\n",
        "data_frame.describe()"
      ],
      "execution_count": 5,
      "outputs": [
        {
          "output_type": "stream",
          "name": "stdout",
          "text": [
            "Dataframe Information & Descriptive Statistics \n",
            "\n",
            "<class 'pandas.core.frame.DataFrame'>\n",
            "RangeIndex: 533327 entries, 0 to 533326\n",
            "Data columns (total 7 columns):\n",
            " #   Column       Non-Null Count   Dtype         \n",
            "---  ------       --------------   -----         \n",
            " 0   id           533327 non-null  int64         \n",
            " 1   customer_id  533327 non-null  int64         \n",
            " 2   location_id  533327 non-null  int64         \n",
            " 3   channel      533327 non-null  object        \n",
            " 4   amount       533327 non-null  int64         \n",
            " 5   bill_no      533327 non-null  object        \n",
            " 6   created_on   533327 non-null  datetime64[ns]\n",
            "dtypes: datetime64[ns](1), int64(4), object(2)\n",
            "memory usage: 28.5+ MB\n"
          ]
        },
        {
          "output_type": "execute_result",
          "data": {
            "text/html": [
              "<div>\n",
              "<style scoped>\n",
              "    .dataframe tbody tr th:only-of-type {\n",
              "        vertical-align: middle;\n",
              "    }\n",
              "\n",
              "    .dataframe tbody tr th {\n",
              "        vertical-align: top;\n",
              "    }\n",
              "\n",
              "    .dataframe thead th {\n",
              "        text-align: right;\n",
              "    }\n",
              "</style>\n",
              "<table border=\"1\" class=\"dataframe\">\n",
              "  <thead>\n",
              "    <tr style=\"text-align: right;\">\n",
              "      <th></th>\n",
              "      <th>id</th>\n",
              "      <th>customer_id</th>\n",
              "      <th>location_id</th>\n",
              "      <th>amount</th>\n",
              "    </tr>\n",
              "  </thead>\n",
              "  <tbody>\n",
              "    <tr>\n",
              "      <th>count</th>\n",
              "      <td>5.333270e+05</td>\n",
              "      <td>5.333270e+05</td>\n",
              "      <td>533327.000000</td>\n",
              "      <td>533327.000000</td>\n",
              "    </tr>\n",
              "    <tr>\n",
              "      <th>mean</th>\n",
              "      <td>4.794955e+07</td>\n",
              "      <td>4.832702e+06</td>\n",
              "      <td>1500.813602</td>\n",
              "      <td>551.399865</td>\n",
              "    </tr>\n",
              "    <tr>\n",
              "      <th>std</th>\n",
              "      <td>7.987404e+06</td>\n",
              "      <td>3.424067e+06</td>\n",
              "      <td>1914.140397</td>\n",
              "      <td>1388.179206</td>\n",
              "    </tr>\n",
              "    <tr>\n",
              "      <th>min</th>\n",
              "      <td>3.561932e+07</td>\n",
              "      <td>6.000000e+01</td>\n",
              "      <td>192.000000</td>\n",
              "      <td>0.000000</td>\n",
              "    </tr>\n",
              "    <tr>\n",
              "      <th>25%</th>\n",
              "      <td>4.170082e+07</td>\n",
              "      <td>1.681087e+06</td>\n",
              "      <td>194.000000</td>\n",
              "      <td>304.000000</td>\n",
              "    </tr>\n",
              "    <tr>\n",
              "      <th>50%</th>\n",
              "      <td>4.692534e+07</td>\n",
              "      <td>5.880546e+06</td>\n",
              "      <td>272.000000</td>\n",
              "      <td>372.000000</td>\n",
              "    </tr>\n",
              "    <tr>\n",
              "      <th>75%</th>\n",
              "      <td>5.031443e+07</td>\n",
              "      <td>7.501177e+06</td>\n",
              "      <td>4003.000000</td>\n",
              "      <td>584.000000</td>\n",
              "    </tr>\n",
              "    <tr>\n",
              "      <th>max</th>\n",
              "      <td>6.392059e+07</td>\n",
              "      <td>1.165519e+07</td>\n",
              "      <td>5099.000000</td>\n",
              "      <td>604827.000000</td>\n",
              "    </tr>\n",
              "  </tbody>\n",
              "</table>\n",
              "</div>"
            ],
            "text/plain": [
              "                 id   customer_id    location_id         amount\n",
              "count  5.333270e+05  5.333270e+05  533327.000000  533327.000000\n",
              "mean   4.794955e+07  4.832702e+06    1500.813602     551.399865\n",
              "std    7.987404e+06  3.424067e+06    1914.140397    1388.179206\n",
              "min    3.561932e+07  6.000000e+01     192.000000       0.000000\n",
              "25%    4.170082e+07  1.681087e+06     194.000000     304.000000\n",
              "50%    4.692534e+07  5.880546e+06     272.000000     372.000000\n",
              "75%    5.031443e+07  7.501177e+06    4003.000000     584.000000\n",
              "max    6.392059e+07  1.165519e+07    5099.000000  604827.000000"
            ]
          },
          "metadata": {},
          "execution_count": 5
        }
      ]
    },
    {
      "cell_type": "code",
      "metadata": {
        "colab": {
          "base_uri": "https://localhost:8080/"
        },
        "id": "WXJlIWH1MXAe",
        "outputId": "0615de0f-1ec7-42c4-bd35-c30d9a36c15f"
      },
      "source": [
        "data_frame['created_on'].min()"
      ],
      "execution_count": 6,
      "outputs": [
        {
          "output_type": "execute_result",
          "data": {
            "text/plain": [
              "Timestamp('2018-01-01 00:00:00')"
            ]
          },
          "metadata": {},
          "execution_count": 6
        }
      ]
    },
    {
      "cell_type": "code",
      "metadata": {
        "colab": {
          "base_uri": "https://localhost:8080/"
        },
        "id": "TbgYPS5vL3iq",
        "outputId": "c93ac7d9-f11d-4518-922f-3047add4b15a"
      },
      "source": [
        "data_frame['created_on'].max()"
      ],
      "execution_count": 7,
      "outputs": [
        {
          "output_type": "execute_result",
          "data": {
            "text/plain": [
              "Timestamp('2019-12-03 22:46:00')"
            ]
          },
          "metadata": {},
          "execution_count": 7
        }
      ]
    },
    {
      "cell_type": "code",
      "metadata": {
        "id": "NOkdiq_fMjNv"
      },
      "source": [
        "data_frame['month_year'] = data_frame['created_on'].apply(lambda x: x.strftime('%Y-%m')) #creating new month_year column"
      ],
      "execution_count": 8,
      "outputs": []
    },
    {
      "cell_type": "code",
      "metadata": {
        "colab": {
          "base_uri": "https://localhost:8080/"
        },
        "id": "XRqR6gXOU431",
        "outputId": "ae3eb7fd-9c07-4ed2-cb85-c77966186eeb"
      },
      "source": [
        "# this table will give overall revenue by month\n",
        "overall_revenue_df = data_frame.groupby('month_year').sum()['amount'].reset_index()\n",
        "print(overall_revenue_df)"
      ],
      "execution_count": 9,
      "outputs": [
        {
          "output_type": "stream",
          "name": "stdout",
          "text": [
            "   month_year    amount\n",
            "0     2018-01  17210945\n",
            "1     2018-02  16681065\n",
            "2     2018-03  15052840\n",
            "3     2018-04  15582275\n",
            "4     2018-05  16251829\n",
            "5     2018-06  18717523\n",
            "6     2018-07  19673116\n",
            "7     2018-08  16533437\n",
            "8     2018-09  18418843\n",
            "9     2018-10  21382952\n",
            "10    2018-11  25534650\n",
            "11    2018-12  21780372\n",
            "12    2019-01  14473684\n",
            "13    2019-02  14248603\n",
            "14    2019-03  19977149\n",
            "15    2019-04   2367858\n",
            "16    2019-05   2946789\n",
            "17    2019-06   2663481\n",
            "18    2019-07   2428741\n",
            "19    2019-08   2945919\n",
            "20    2019-09   2815535\n",
            "21    2019-10   2678773\n",
            "22    2019-11   1875251\n",
            "23    2019-12   1834806\n"
          ]
        }
      ]
    },
    {
      "cell_type": "code",
      "metadata": {
        "colab": {
          "base_uri": "https://localhost:8080/"
        },
        "id": "bOUnJHjRMy6D",
        "outputId": "4ebba982-a12b-453e-e053-6724fc956c13"
      },
      "source": [
        "# this table will give total month on month revenue for each location_id\n",
        "location_revenue_df = data_frame.groupby(['location_id','month_year']).sum()['amount'].reset_index()\n",
        "print(location_revenue_df)"
      ],
      "execution_count": 10,
      "outputs": [
        {
          "output_type": "stream",
          "name": "stdout",
          "text": [
            "     location_id month_year   amount\n",
            "0            192    2018-01  1517518\n",
            "1            192    2018-02  1406935\n",
            "2            192    2018-03  1272744\n",
            "3            192    2018-04  1544696\n",
            "4            192    2018-05  1685342\n",
            "..           ...        ...      ...\n",
            "704         5099    2019-06    15469\n",
            "705         5099    2019-07    22061\n",
            "706         5099    2019-08     3758\n",
            "707         5099    2019-09     5492\n",
            "708         5099    2019-10    10415\n",
            "\n",
            "[709 rows x 3 columns]\n"
          ]
        }
      ]
    },
    {
      "cell_type": "code",
      "metadata": {
        "colab": {
          "base_uri": "https://localhost:8080/"
        },
        "id": "V9yA6hYeYRin",
        "outputId": "ce326700-2f13-4489-81f3-496bbce876fc"
      },
      "source": [
        "# this table will give overall orders by month\n",
        "overall_orders_df = data_frame.groupby('month_year')['id'].count()\n",
        "print(overall_orders_df)"
      ],
      "execution_count": 11,
      "outputs": [
        {
          "output_type": "stream",
          "name": "stdout",
          "text": [
            "month_year\n",
            "2018-01    28850\n",
            "2018-02    27427\n",
            "2018-03    25520\n",
            "2018-04    27060\n",
            "2018-05    27909\n",
            "2018-06    32088\n",
            "2018-07    33458\n",
            "2018-08    28318\n",
            "2018-09    37358\n",
            "2018-10    36025\n",
            "2018-11    43802\n",
            "2018-12    35261\n",
            "2019-01    25607\n",
            "2019-02    30756\n",
            "2019-03    46083\n",
            "2019-04     4969\n",
            "2019-05     6159\n",
            "2019-06     5700\n",
            "2019-07     5472\n",
            "2019-08     5990\n",
            "2019-09     5899\n",
            "2019-10     6072\n",
            "2019-11     3731\n",
            "2019-12     3813\n",
            "Name: id, dtype: int64\n"
          ]
        }
      ]
    },
    {
      "cell_type": "code",
      "metadata": {
        "colab": {
          "base_uri": "https://localhost:8080/"
        },
        "id": "SEB50O6RaCE9",
        "outputId": "c9a75d1d-574d-49b8-acd5-0244949539dc"
      },
      "source": [
        "# this table will give total month on month orders for each location_id\n",
        "location_orders_df = data_frame.groupby(['location_id','month_year']).count()['id'].reset_index()\n",
        "print(location_orders_df)"
      ],
      "execution_count": 12,
      "outputs": [
        {
          "output_type": "stream",
          "name": "stdout",
          "text": [
            "     location_id month_year    id\n",
            "0            192    2018-01  2497\n",
            "1            192    2018-02  2403\n",
            "2            192    2018-03  2156\n",
            "3            192    2018-04  3139\n",
            "4            192    2018-05  3418\n",
            "..           ...        ...   ...\n",
            "704         5099    2019-06     1\n",
            "705         5099    2019-07     1\n",
            "706         5099    2019-08     1\n",
            "707         5099    2019-09     1\n",
            "708         5099    2019-10     1\n",
            "\n",
            "[709 rows x 3 columns]\n"
          ]
        }
      ]
    },
    {
      "cell_type": "code",
      "metadata": {
        "colab": {
          "base_uri": "https://localhost:8080/"
        },
        "id": "x6wN3cV6ahJx",
        "outputId": "fa97620a-941b-4f1f-90d8-a98ee6535a3a"
      },
      "source": [
        "# this table will give count of overall customers by month\n",
        "overall_customers_df = data_frame.groupby('month_year').count()['customer_id'].reset_index()\n",
        "print(overall_customers_df)"
      ],
      "execution_count": 13,
      "outputs": [
        {
          "output_type": "stream",
          "name": "stdout",
          "text": [
            "   month_year  customer_id\n",
            "0     2018-01        28850\n",
            "1     2018-02        27427\n",
            "2     2018-03        25520\n",
            "3     2018-04        27060\n",
            "4     2018-05        27909\n",
            "5     2018-06        32088\n",
            "6     2018-07        33458\n",
            "7     2018-08        28318\n",
            "8     2018-09        37358\n",
            "9     2018-10        36025\n",
            "10    2018-11        43802\n",
            "11    2018-12        35261\n",
            "12    2019-01        25607\n",
            "13    2019-02        30756\n",
            "14    2019-03        46083\n",
            "15    2019-04         4969\n",
            "16    2019-05         6159\n",
            "17    2019-06         5700\n",
            "18    2019-07         5472\n",
            "19    2019-08         5990\n",
            "20    2019-09         5899\n",
            "21    2019-10         6072\n",
            "22    2019-11         3731\n",
            "23    2019-12         3813\n"
          ]
        }
      ]
    },
    {
      "cell_type": "code",
      "metadata": {
        "colab": {
          "base_uri": "https://localhost:8080/"
        },
        "id": "E4ZopS4hayG6",
        "outputId": "3a0d63b7-f013-4bcf-84eb-9c713228b348"
      },
      "source": [
        "# this table will give total count of month on month customers for each location_id\n",
        "location_customers_df = data_frame.groupby(['location_id','month_year']).count()['customer_id'].reset_index()\n",
        "print(location_customers_df)"
      ],
      "execution_count": 14,
      "outputs": [
        {
          "output_type": "stream",
          "name": "stdout",
          "text": [
            "     location_id month_year  customer_id\n",
            "0            192    2018-01         2497\n",
            "1            192    2018-02         2403\n",
            "2            192    2018-03         2156\n",
            "3            192    2018-04         3139\n",
            "4            192    2018-05         3418\n",
            "..           ...        ...          ...\n",
            "704         5099    2019-06            1\n",
            "705         5099    2019-07            1\n",
            "706         5099    2019-08            1\n",
            "707         5099    2019-09            1\n",
            "708         5099    2019-10            1\n",
            "\n",
            "[709 rows x 3 columns]\n"
          ]
        }
      ]
    },
    {
      "cell_type": "code",
      "metadata": {
        "colab": {
          "base_uri": "https://localhost:8080/",
          "height": 204
        },
        "id": "AECPhaNzQEvi",
        "outputId": "009e642d-cd07-46c2-a061-267bd4d7f4ff"
      },
      "source": [
        "repeat_customers_df = data_frame.drop_duplicates(subset = ['customer_id'], keep = 'first')\n",
        "repeat_customers_df.head()"
      ],
      "execution_count": 15,
      "outputs": [
        {
          "output_type": "execute_result",
          "data": {
            "text/html": [
              "<div>\n",
              "<style scoped>\n",
              "    .dataframe tbody tr th:only-of-type {\n",
              "        vertical-align: middle;\n",
              "    }\n",
              "\n",
              "    .dataframe tbody tr th {\n",
              "        vertical-align: top;\n",
              "    }\n",
              "\n",
              "    .dataframe thead th {\n",
              "        text-align: right;\n",
              "    }\n",
              "</style>\n",
              "<table border=\"1\" class=\"dataframe\">\n",
              "  <thead>\n",
              "    <tr style=\"text-align: right;\">\n",
              "      <th></th>\n",
              "      <th>id</th>\n",
              "      <th>customer_id</th>\n",
              "      <th>location_id</th>\n",
              "      <th>channel</th>\n",
              "      <th>amount</th>\n",
              "      <th>bill_no</th>\n",
              "      <th>created_on</th>\n",
              "      <th>month_year</th>\n",
              "    </tr>\n",
              "  </thead>\n",
              "  <tbody>\n",
              "    <tr>\n",
              "      <th>0</th>\n",
              "      <td>42877344</td>\n",
              "      <td>60</td>\n",
              "      <td>192</td>\n",
              "      <td>uber</td>\n",
              "      <td>1039</td>\n",
              "      <td>GGN001-24323</td>\n",
              "      <td>2018-06-24 00:00:00</td>\n",
              "      <td>2018-06</td>\n",
              "    </tr>\n",
              "    <tr>\n",
              "      <th>1</th>\n",
              "      <td>35625005</td>\n",
              "      <td>134</td>\n",
              "      <td>535</td>\n",
              "      <td>takeaway</td>\n",
              "      <td>1029</td>\n",
              "      <td>DEL007-1522</td>\n",
              "      <td>2018-01-14 19:21:00</td>\n",
              "      <td>2018-01</td>\n",
              "    </tr>\n",
              "    <tr>\n",
              "      <th>2</th>\n",
              "      <td>44397299</td>\n",
              "      <td>166</td>\n",
              "      <td>347</td>\n",
              "      <td>uber</td>\n",
              "      <td>355</td>\n",
              "      <td>DEL005-29173</td>\n",
              "      <td>2018-09-13 13:40:00</td>\n",
              "      <td>2018-09</td>\n",
              "    </tr>\n",
              "    <tr>\n",
              "      <th>7</th>\n",
              "      <td>36018577</td>\n",
              "      <td>180</td>\n",
              "      <td>4593</td>\n",
              "      <td>takeaway</td>\n",
              "      <td>60</td>\n",
              "      <td>GGN007-1266</td>\n",
              "      <td>2018-01-17 13:40:00</td>\n",
              "      <td>2018-01</td>\n",
              "    </tr>\n",
              "    <tr>\n",
              "      <th>14</th>\n",
              "      <td>43892343</td>\n",
              "      <td>199</td>\n",
              "      <td>272</td>\n",
              "      <td>takeaway</td>\n",
              "      <td>415</td>\n",
              "      <td>DEL003-15938</td>\n",
              "      <td>2018-08-15 19:39:00</td>\n",
              "      <td>2018-08</td>\n",
              "    </tr>\n",
              "  </tbody>\n",
              "</table>\n",
              "</div>"
            ],
            "text/plain": [
              "          id  customer_id  ...          created_on month_year\n",
              "0   42877344           60  ... 2018-06-24 00:00:00    2018-06\n",
              "1   35625005          134  ... 2018-01-14 19:21:00    2018-01\n",
              "2   44397299          166  ... 2018-09-13 13:40:00    2018-09\n",
              "7   36018577          180  ... 2018-01-17 13:40:00    2018-01\n",
              "14  43892343          199  ... 2018-08-15 19:39:00    2018-08\n",
              "\n",
              "[5 rows x 8 columns]"
            ]
          },
          "metadata": {},
          "execution_count": 15
        }
      ]
    },
    {
      "cell_type": "code",
      "metadata": {
        "colab": {
          "base_uri": "https://localhost:8080/"
        },
        "id": "_zSSuBisSq3G",
        "outputId": "1ad0c17f-95fc-43ef-83c3-939628bb988b"
      },
      "source": [
        "# this table will give overall count of repeat customers by month\n",
        "repeat_customers = repeat_customers_df.groupby(['month_year']).count()['customer_id'].reset_index()\n",
        "print(repeat_customers)"
      ],
      "execution_count": 16,
      "outputs": [
        {
          "output_type": "stream",
          "name": "stdout",
          "text": [
            "   month_year  customer_id\n",
            "0     2018-01        17095\n",
            "1     2018-02        14644\n",
            "2     2018-03        12072\n",
            "3     2018-04        12782\n",
            "4     2018-05        13145\n",
            "5     2018-06        16069\n",
            "6     2018-07        16850\n",
            "7     2018-08        13454\n",
            "8     2018-09        18702\n",
            "9     2018-10        17452\n",
            "10    2018-11        20470\n",
            "11    2018-12        15614\n",
            "12    2019-01        10670\n",
            "13    2019-02        13322\n",
            "14    2019-03        19979\n",
            "15    2019-04         2055\n",
            "16    2019-05         2489\n",
            "17    2019-06         2322\n",
            "18    2019-07         2370\n",
            "19    2019-08         2376\n",
            "20    2019-09         2507\n",
            "21    2019-10         2490\n",
            "22    2019-11         1527\n",
            "23    2019-12         1542\n"
          ]
        }
      ]
    },
    {
      "cell_type": "code",
      "metadata": {
        "colab": {
          "base_uri": "https://localhost:8080/"
        },
        "id": "xc44IqnuUyeM",
        "outputId": "45114875-eb83-462f-8954-ec46839f563f"
      },
      "source": [
        "# this table will give overall count of repeat customers by location_id and month\n",
        "repeat_customers_location = repeat_customers_df.groupby(['location_id','month_year']).count()['customer_id'].reset_index()\n",
        "print(repeat_customers_location)"
      ],
      "execution_count": 17,
      "outputs": [
        {
          "output_type": "stream",
          "name": "stdout",
          "text": [
            "     location_id month_year  customer_id\n",
            "0            192    2018-01         1449\n",
            "1            192    2018-02         1271\n",
            "2            192    2018-03         1072\n",
            "3            192    2018-04         1662\n",
            "4            192    2018-05         1562\n",
            "..           ...        ...          ...\n",
            "658         5099    2018-03            1\n",
            "659         5099    2018-07            1\n",
            "660         5099    2018-09            1\n",
            "661         5099    2018-10            4\n",
            "662         5099    2018-11            3\n",
            "\n",
            "[663 rows x 3 columns]\n"
          ]
        }
      ]
    },
    {
      "cell_type": "code",
      "metadata": {
        "colab": {
          "base_uri": "https://localhost:8080/"
        },
        "id": "Q9QV-0dNVdY8",
        "outputId": "9b416277-f910-4c8e-f3ba-17981efce319"
      },
      "source": [
        "# this table will give overall count of new customers by month\n",
        "new_customers = data_frame.groupby('month_year').count()['customer_id'] - repeat_customers_df.groupby('month_year').count()['customer_id']\n",
        "new_customers"
      ],
      "execution_count": 18,
      "outputs": [
        {
          "output_type": "execute_result",
          "data": {
            "text/plain": [
              "month_year\n",
              "2018-01    11755\n",
              "2018-02    12783\n",
              "2018-03    13448\n",
              "2018-04    14278\n",
              "2018-05    14764\n",
              "2018-06    16019\n",
              "2018-07    16608\n",
              "2018-08    14864\n",
              "2018-09    18656\n",
              "2018-10    18573\n",
              "2018-11    23332\n",
              "2018-12    19647\n",
              "2019-01    14937\n",
              "2019-02    17434\n",
              "2019-03    26104\n",
              "2019-04     2914\n",
              "2019-05     3670\n",
              "2019-06     3378\n",
              "2019-07     3102\n",
              "2019-08     3614\n",
              "2019-09     3392\n",
              "2019-10     3582\n",
              "2019-11     2204\n",
              "2019-12     2271\n",
              "Name: customer_id, dtype: int64"
            ]
          },
          "metadata": {},
          "execution_count": 18
        }
      ]
    },
    {
      "cell_type": "code",
      "metadata": {
        "colab": {
          "base_uri": "https://localhost:8080/"
        },
        "id": "gQg3AA2rb8ho",
        "outputId": "ccd56091-07e6-4e99-b1f1-ec49645ad664"
      },
      "source": [
        "# this table will give overall count of new customers by location_id and month\n",
        "new_customers_location = data_frame.groupby(['location_id','month_year']).count()['customer_id'] - repeat_customers_df.groupby(['location_id','month_year']).count()['customer_id']\n",
        "new_customers_location"
      ],
      "execution_count": 19,
      "outputs": [
        {
          "output_type": "execute_result",
          "data": {
            "text/plain": [
              "location_id  month_year\n",
              "192          2018-01       1048.0\n",
              "             2018-02       1132.0\n",
              "             2018-03       1084.0\n",
              "             2018-04       1477.0\n",
              "             2018-05       1856.0\n",
              "                            ...  \n",
              "5099         2019-06          NaN\n",
              "             2019-07          NaN\n",
              "             2019-08          NaN\n",
              "             2019-09          NaN\n",
              "             2019-10          NaN\n",
              "Name: customer_id, Length: 709, dtype: float64"
            ]
          },
          "metadata": {},
          "execution_count": 19
        }
      ]
    },
    {
      "cell_type": "code",
      "metadata": {
        "colab": {
          "base_uri": "https://localhost:8080/"
        },
        "id": "j4D5HXkfbsLf",
        "outputId": "6cd56f65-03f4-4a0d-9308-4a3f55c307bf"
      },
      "source": [
        "unique_customer_count = data_frame.groupby('month_year')['customer_id'].value_counts()\n",
        "unique_customer_count"
      ],
      "execution_count": 20,
      "outputs": [
        {
          "output_type": "execute_result",
          "data": {
            "text/plain": [
              "month_year  customer_id\n",
              "2018-01     6127480        106\n",
              "            6127477        103\n",
              "            6127506         71\n",
              "            6127597         68\n",
              "            556120          45\n",
              "                          ... \n",
              "2019-12     11302744         1\n",
              "            11302745         1\n",
              "            11302746         1\n",
              "            11302747         1\n",
              "            11302748         1\n",
              "Name: customer_id, Length: 418186, dtype: int64"
            ]
          },
          "metadata": {},
          "execution_count": 20
        }
      ]
    },
    {
      "cell_type": "code",
      "metadata": {
        "colab": {
          "base_uri": "https://localhost:8080/"
        },
        "id": "BvAPAPCshEQm",
        "outputId": "c07ca52f-51ac-4c16-b2bf-afe3b92717bc"
      },
      "source": [
        "# this table will frequency by month\n",
        "frequency = data_frame.groupby('month_year')['id'].count()/data_frame.groupby('month_year')['customer_id'].value_counts()\n",
        "frequency"
      ],
      "execution_count": 30,
      "outputs": [
        {
          "output_type": "execute_result",
          "data": {
            "text/plain": [
              "month_year  customer_id\n",
              "2018-01     6127480         272.169811\n",
              "            6127477         280.097087\n",
              "            6127506         406.338028\n",
              "            6127597         424.264706\n",
              "            556120          641.111111\n",
              "                              ...     \n",
              "2019-12     11302744       3813.000000\n",
              "            11302745       3813.000000\n",
              "            11302746       3813.000000\n",
              "            11302747       3813.000000\n",
              "            11302748       3813.000000\n",
              "Length: 418186, dtype: float64"
            ]
          },
          "metadata": {},
          "execution_count": 30
        }
      ]
    },
    {
      "cell_type": "code",
      "metadata": {
        "colab": {
          "base_uri": "https://localhost:8080/"
        },
        "id": "eOzwr7NDhkya",
        "outputId": "d3fc2478-8d5f-40f5-c158-c2915d7f40e2"
      },
      "source": [
        "# this table will frequency by location and month\n",
        "frequency_location = data_frame.groupby((['location_id','month_year']))['id'].count()/data_frame.groupby((['location_id','month_year']))['customer_id'].value_counts()\n",
        "frequency_location"
      ],
      "execution_count": 31,
      "outputs": [
        {
          "output_type": "execute_result",
          "data": {
            "text/plain": [
              "location_id  month_year  customer_id\n",
              "192          2018-01     352740         208.083333\n",
              "                         474353         312.125000\n",
              "                         556019         356.714286\n",
              "                         353750         416.166667\n",
              "                         108147         499.400000\n",
              "                                           ...    \n",
              "5099         2019-06     7935508          1.000000\n",
              "             2019-07     7935508          1.000000\n",
              "             2019-08     7935508          1.000000\n",
              "             2019-09     7935508          1.000000\n",
              "             2019-10     7935508          1.000000\n",
              "Length: 450245, dtype: float64"
            ]
          },
          "metadata": {},
          "execution_count": 31
        }
      ]
    }
  ]
}